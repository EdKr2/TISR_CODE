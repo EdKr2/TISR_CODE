{
 "cells": [
  {
   "cell_type": "markdown",
   "metadata": {},
   "source": [
    "# Equations of TISR for substitution alloy. "
   ]
  },
  {
   "cell_type": "markdown",
   "metadata": {},
   "source": [
    "# Free energy $f$ is defined as explicit function of thermodynamical variables $\\theta = k_B T, P$ and internal variables $\\lambda _\\mathbf{\\sigma}$. \n",
    "\n",
    "# Concentrations $x_\\mathbf{\\sigma}$ are also explicit functions of  $\\lambda _\\mathbf{\\sigma}, (\\sigma = 1,2, ... n)$. \n",
    "\n",
    "# Every cell is described by parameters $i_\\mathbf{\\sigma} = i_1, i_2,... i_n$ corresponding to number of atoms of every type  in the cell\n",
    "\\begin{split}\n",
    "f(\\theta, \\lambda_\\mathbf{\\sigma}) &= \\theta(1-\\gamma) \\left( \\sum_\\mathbf{\\sigma}  x_\\mathbf{\\sigma} \\ln x_\\mathbf{\\sigma} \n",
    "- (\\sum_\\mathbf{\\rho} x_\\mathbf{\\rho} )\\ln \\sum_\\mathbf{\\sigma} x_\\mathbf{\\sigma} \\right)\n",
    "    + \\theta \\gamma \\sum_\\mathbf{\\sigma}\\lambda_\\mathbf{\\sigma} x_\\mathbf{\\sigma} \\\\\n",
    "   \\end{split}"
   ]
  },
  {
   "cell_type": "markdown",
   "metadata": {},
   "source": [
    "\\begin{equation}\n",
    "p_\\mathbf{i} = W_\\mathbf{i} \\exp(\\sum_\\mathbf{\\sigma} i_\\mathbf{\\sigma} \\lambda_\\mathbf{\\sigma} ) ; \\quad \n",
    "W_\\mathbf{i} = \\sum_\\alpha \\exp \\left(- {\\frac{\\beta U_{\\mathbf{i} \\alpha}}{\\theta\\gamma }}\\right) \n",
    "\\end{equation}\n",
    "\\begin{equation}\n",
    "\\frac{\\partial p_\\mathbf{i}}{\\partial \\lambda_\\sigma} = i_\\sigma p_\\mathbf{i}\n",
    "\\end{equation}\n",
    "\n",
    "\\begin{equation}\n",
    "x_\\mathbf{\\sigma} = \\sum_\\mathbf{i} \\frac{i_\\mathbf{\\sigma}}{k}  p_\\mathbf{i}; \\quad \\sum_\\mathbf{\\sigma} i_\\mathbf{\\sigma} = k\n",
    "\\end{equation}\n"
   ]
  },
  {
   "cell_type": "markdown",
   "metadata": {},
   "source": [
    "# Some abbreviations:"
   ]
  },
  {
   "cell_type": "markdown",
   "metadata": {},
   "source": [
    "\\begin{equation}\n",
    "S = \\sum_\\mathbf{i} p_\\mathbf{i}; \\quad S_\\mathbf{\\sigma} = \\frac{\\partial S}{\\partial \\lambda_\\sigma} = \\sum_\\mathbf{i} i_\\mathbf{\\sigma} p_\\mathbf{i}; \\quad\n",
    "S_\\mathbf{\\sigma \\nu} = \\frac{\\partial S_\\mathbf{\\nu}}{\\partial \\lambda_\\sigma}  = \\sum_\\mathbf{i} i_\\mathbf{\\sigma} i_\\mathbf{\\nu} p_\\mathbf{i}; \\quad\n",
    "S_\\mathbf{\\sigma \\nu \\rho} = \\sum_\\mathbf{i} i_\\mathbf{\\sigma} i_\\mathbf{\\nu} i_\\mathbf{\\rho} p_\\mathbf{i}\n",
    "\\end{equation}\n",
    "\n",
    "\\begin{equation} \\sum_\\sigma S_\\sigma = k S; \\quad \\sum_\\sigma S_{\\sigma \\nu} = k S_\\nu \\end{equation} \n"
   ]
  },
  {
   "cell_type": "markdown",
   "metadata": {},
   "source": [
    "#  Variables $\\lambda_\\sigma$ are not independent, the following constraint has to be enforced:\n",
    "\\begin{equation}\n",
    "S = \\sum_\\mathbf{i} p_\\mathbf{i} = \\sum_\\mathbf{i} W_\\mathbf{i} \\exp(\\sum_\\mathbf{\\sigma} i_\\mathbf{\\sigma} \\lambda_\\mathbf{\\sigma} ) =1\n",
    "\\end{equation}"
   ]
  },
  {
   "cell_type": "markdown",
   "metadata": {},
   "source": [
    "# In reality $ i_1 + i_2 = k $. It allows the double sum consider as a single.  We can denote $ V_i = W_{i (k-i)}  \\exp(i \\lambda_1 + (k-i) \\lambda_2)$ Then for Fortran with index starting from 1:"
   ]
  },
  {
   "cell_type": "markdown",
   "metadata": {},
   "source": []
  },
  {
   "cell_type": "markdown",
   "metadata": {},
   "source": [
    "\\begin{split}\n",
    "f &= \\theta(1-\\gamma) \\left( \\sum_\\mathbf{\\nu}  x_\\mathbf{\\nu} \\ln x_\\mathbf{\\nu} \n",
    "- (\\sum_\\mathbf{\\nu} x_\\mathbf{\\nu} )\\ln \\sum_\\mathbf{\\nu} x_\\mathbf{\\nu} \\right)\n",
    "    + \\theta \\gamma \\sum_\\mathbf{\\nu}\\lambda_\\mathbf{\\nu} x_\\mathbf{\\nu} \\\\\n",
    "&= \\theta (1 - \\gamma) \\left(\\sum_\\nu \\frac{S_\\nu}{k} \\ln \\frac{S_\\nu}{k} \n",
    "- S \\ln S \\right) + \\theta \\gamma \\left(\\sum_\\nu \\frac{S_\\nu}{k} \\lambda_\\nu \\right) \n",
    "\\end{split}\n"
   ]
  },
  {
   "cell_type": "markdown",
   "metadata": {},
   "source": [
    "\\begin{split}\n",
    "\\frac{\\partial f}{\\partial \\lambda_\\sigma} \n",
    "&= \\theta (1 - \\gamma) \\left(\\sum_\\nu \\frac{S_{\\nu \\sigma} }{k} \\ln \\frac{S_\\nu}{k} \n",
    "+ \\sum_\\nu \\frac{S_{\\nu \\sigma} }{k} - S_\\sigma \\ln S - S_\\sigma\\right)\n",
    "+ \\frac{ \\theta \\gamma}{k } \\left(\\sum_\\nu S_{\\nu \\sigma}  \\lambda_\\nu + S_\\sigma \\right)\\\\\n",
    "&= \\theta (1 - \\gamma) \\left(\\sum_\\nu \\frac{S_{\\nu \\sigma} }{k} \\ln \\frac{S_\\nu}{k} \n",
    " - S_\\sigma \\ln S \\right)\n",
    "+ \\frac{ \\theta \\gamma}{k } \\left(\\sum_\\nu S_{\\nu \\sigma}  \\lambda_\\nu + S_\\sigma \\right)\\\\\n",
    "\\end{split}"
   ]
  },
  {
   "cell_type": "markdown",
   "metadata": {},
   "source": [
    "\\begin{equation}\n",
    "\\left(\\frac{\\partial^2 f}{\\partial \\lambda_\\sigma \\partial \\lambda_\\rho} \\right) = \n",
    "\\theta (1 - \\gamma) \\left(\\sum_\\nu \\frac{S_{\\nu \\sigma \\rho} }{k} \\ln \\frac{S_\\nu}{k} \n",
    "+ \\sum_\\nu \\frac{S_{\\nu \\sigma } }{k S_\\nu} S_{\\nu \\rho}\n",
    " - S_{\\sigma \\rho} \\ln S - \\frac{S_\\sigma S_\\rho}{S}\\right) \n",
    "+ \\frac{ \\theta \\gamma}{k } \\left(\\sum_\\nu S_{\\nu \\sigma  \\rho}  \\lambda_\\nu + S_{\\rho \\sigma }\n",
    "+ S_{\\sigma  \\rho} \\right) \n",
    "\\end{equation}"
   ]
  },
  {
   "cell_type": "code",
   "execution_count": 1,
   "metadata": {},
   "outputs": [],
   "source": [
    "import numpy as np\n",
    "import matplotlib.pyplot as plt\n",
    "import ipywidgets as wdg\n",
    "%matplotlib inline\n",
    "%config InlineBackend.figure_format = 'retina'\n",
    "from scipy.optimize import fsolve\n",
    "from scipy.special import comb    "
   ]
  },
  {
   "cell_type": "code",
   "execution_count": 2,
   "metadata": {},
   "outputs": [],
   "source": [
    "k = 4                                    # Size of the cell\n",
    "n = 3                                    # Number of components\n",
    "gamma = 4\n",
    "Akn = comb(k+n-1,k , exact=True) + 1     # Size of array A to be defined  \n",
    "#print(k+1, Akn, n+1 )"
   ]
  },
  {
   "cell_type": "code",
   "execution_count": null,
   "metadata": {},
   "outputs": [],
   "source": []
  },
  {
   "cell_type": "code",
   "execution_count": 3,
   "metadata": {},
   "outputs": [],
   "source": [
    "# Every cell must contain k atoms. Construct all possible compositions of cells using algorithm from WEB:\n",
    "# \"Calculating a polynomial in several variables\" -- http://www.tvd-home.ru/numerical/polynom \n",
    "\n",
    "def set_cells():\n",
    "    '''Generate list of cells identified by composition '''\n",
    "    A = np.zeros((k+1, Akn, n+1 ))          # Working array to calculate and collect cells parameters = cells compositions\n",
    "    Ck = np.zeros(k+1, dtype=np.int16)      # Ck[i] - the index of the last not null element in the line of A[i,,] \n",
    "                                            #         corresponding to i atoms in the cell - Working array\n",
    "    B0 = np.zeros((Akn, n+2), np.float64 )  # Takes last row from A (corresponding to k atoms in a cell) and add a column that will contain W_i\n",
    "    \n",
    "    for m0 in np.arange(n):\n",
    "        m = m0 + 1; \n",
    "        for i in np.arange(k):\n",
    "            if (i==0): \n",
    "                Ck[i+1] += 1\n",
    "                A[i+1,Ck[i+1], m ]  += 1 ; \n",
    "            else:\n",
    "                A[i+1, Ck[i+1]+1 : Ck[i+1] + Ck[i] + 1, :] = A[i, 1 : Ck[i] + 1 , :] + A[1, m:m+1 , :] ; \n",
    "                Ck[i+1] += Ck[i]\n",
    "\n",
    "    B0[:, 1:(n+1)] = A[k, :, 1:(n+1)]\n",
    "#    print(A[k,:,:])\n",
    "            \n",
    "    return B0\n",
    "B0 = set_cells()\n",
    "#print(B0)"
   ]
  },
  {
   "cell_type": "code",
   "execution_count": 4,
   "metadata": {},
   "outputs": [],
   "source": [
    "def set_W(B0, *W):\n",
    "    ''' Calculate parts of W_i  that do not depend on alloy composition:'''\n",
    "    # B0 - add W (= statsums of cells) to the last column of B0\n",
    "    # B1 product of W and every of i_1, i_2,...  : n columns, where i_alpha is number of atoms of type alpha in the cell\n",
    "    # B2 product of B1 and every of i_1, i_2,... : n*n + 1 columns\n",
    "    # B3 product of B2 and every of i_1, i_2,... : n*n*n + 1 columns\n",
    "\n",
    "    B1 = np.zeros((Akn, n + 1), np.float64 )\n",
    "    B2 = np.zeros((Akn, n*n + 1), np.float64 )\n",
    "    B3 = np.zeros((Akn, n*n*n + 1), np.float64 )\n",
    "\n",
    "    if not W :                                  # if W is null create W as a number of permutations for cell of given composition\n",
    "        fktrl = np.ones(k+1)\n",
    "        for i in range(k):\n",
    "            fktrl[i+1] = fktrl[i] * (i+1)\n",
    "\n",
    "    # Calculating combinatorial factor for every cell == W_i when E_i=0\n",
    "        for i in range(Akn-1):\n",
    "            p = 1.\n",
    "            for j in range(n):\n",
    "                p *= fktrl[int(B0[i+1, j+1 ])]\n",
    "        #        print(i+1, j+1, fktrl[n+1] , p, B0[i+1, : ])\n",
    "                B0[i+1, n+1 ] = fktrl[k] / p\n",
    "    else:\n",
    "        B0[i+1, n+1 ] = W[:]                   # if W is supplied\n",
    "\n",
    "    B1 = B0[:, 1:(n+1)] * B0[:, (n+1):]\n",
    "    \n",
    "    i0 = 1\n",
    "    for i in range(n):\n",
    "        i2 = i0 + n\n",
    "        B2[:,i0:i2] = B1[:, :] * B0[:, (i+1):(i+2)]\n",
    "        i0 = i2\n",
    "\n",
    "    i0 = 1\n",
    "    for i in range(n):\n",
    "        i2 = i0 + n*n\n",
    "        B3[:,i0:i2] = B2[:, 1:] * B0[:, (i+1):(i+2)]\n",
    "        i0 = i2\n",
    "\n",
    "    return B0, B1, B2, B3\n",
    "\n",
    "B0, B1, B2, B3 = set_W(B0)\n",
    "\n",
    "#print(B0, B1, B2, B3)"
   ]
  },
  {
   "cell_type": "code",
   "execution_count": null,
   "metadata": {},
   "outputs": [],
   "source": []
  },
  {
   "cell_type": "markdown",
   "metadata": {},
   "source": [
    "# Calculate all Products $a_1^{i_1} * a_2^{i_2}$... with $ i_1 + i_2 + ... = k$ using the same order as $W_{\\mathbf{i}} = B0$"
   ]
  },
  {
   "cell_type": "code",
   "execution_count": 5,
   "metadata": {},
   "outputs": [],
   "source": [
    "def calc_Si(ai):\n",
    "    '''Calculate all sums that are defined in the preambule as S, S1, S2, S3 - expressions with specified number of indexes'''\n",
    "    # ai is array of a1, a2, ...\n",
    "    C = np.zeros((k+1, Akn ))               # working array \n",
    "    Ck = np.zeros(k+1, dtype=np.int16)      # Ck[i] - the index of the last not null element in the line of C[i,] corresponding to i atoms in the cell\n",
    "    #m = 1 ; \n",
    "\n",
    "    # Calculate array C that will contain expressions a1**i1 * a2**i2 ... with i1, i2,... according cell composition\n",
    "    # Using the same algorithm as in set_cells(). Result put in Ctr array (one column)\n",
    "    # Every column in B1, B2, B3 multiply by Ctr\n",
    "    for m0 in np.arange(n):\n",
    "        m = m0 + 1; #print(\"m=\", m)\n",
    "        for i in np.arange(k):\n",
    "            if (i==0): \n",
    "                Ck[i+1] += 1\n",
    "                C[i+1,Ck[i+1]]  = ai[m] ; #print(i+1,Ck[i+1], m)\n",
    "            else:\n",
    "                C[i+1, Ck[i+1]+1 : Ck[i+1] + Ck[i] + 1] = C[i, 1 : Ck[i] + 1 ] * ai[m] ; \n",
    "                Ck[i+1] += Ck[i]\n",
    "\n",
    "    #         print(C[i+1, :], -16,i+1)\n",
    "    #         print(\"Ck=\", Ck)\n",
    "\n",
    "    S = sum(B0[:,n+1]*C[k, :] )\n",
    "    Ctr = np.transpose(C[k:(k+1), :])\n",
    "#    print(Ctr)\n",
    "    S1 = (B1*Ctr).sum(axis=0)\n",
    "    S2 = (B2*Ctr).sum(axis=0)\n",
    "    S3 = (B3*Ctr).sum(axis=0)\n",
    "#     print(C[k, :], -21, k)\n",
    "#     print(\"Ck=\", Ck[k])   \n",
    "#     print(\"S =\",S)\n",
    "#     print(S1, \"= S1\",); print(S1.sum())\n",
    "#     print(S2, \"= S2\",); print(S2.sum())\n",
    "#     print(S3, \"= S3\",); print(S3.sum())\n",
    "    return S, S1, S2, S3\n",
    "\n",
    "ai =([0,.2,.3, .5])\n",
    "(S, S1, S2, S3) = calc_Si(ai)\n",
    "#print(S, S1, S2, S3)"
   ]
  },
  {
   "cell_type": "code",
   "execution_count": 6,
   "metadata": {},
   "outputs": [
    {
     "name": "stdout",
     "output_type": "stream",
     "text": [
      "[ 0.8  1.2  2. ] = S1\n",
      "4.0\n",
      "[ 0.    1.28  0.72  1.2   0.72  2.28  1.8   1.2   1.8   5.  ] = S2\n",
      "16.0\n",
      "[  0.      2.432   1.008   1.68    1.008   1.152   0.72    1.68    0.72\n",
      "   2.4     1.008   1.152   0.72    1.152   5.088   2.88    0.72    2.88\n",
      "   3.6     1.68    0.72    2.4     0.72    2.88    3.6     2.4     3.6    14.   ] = S3\n",
      "64.0\n"
     ]
    }
   ],
   "source": [
    "    print(S1, \"= S1\",); print(S1.sum())\n",
    "    print(S2, \"= S2\",); print(S2.sum())\n",
    "    print(S3, \"= S3\",); print(S3.sum())\n"
   ]
  },
  {
   "cell_type": "code",
   "execution_count": null,
   "metadata": {},
   "outputs": [],
   "source": []
  },
  {
   "cell_type": "code",
   "execution_count": 10,
   "metadata": {},
   "outputs": [],
   "source": [
    "\n",
    "def lambd2f(lambd, S, S1):\n",
    "    sum_S1_lambd = sum(S1*lambd)\n",
    "#    print(\"sum_S1_lambd =\", sum_S1_lambd)\n",
    "\n",
    "    ln_S1_2k = np.log(S1/k)\n",
    "\n",
    "    sum_S1_ln_S1 = sum(S1*ln_S1_2k)\n",
    "#    print(S1, \"= S1\")\n",
    "#     print(\"sum_S1_ln_S1 =\", sum_S1_ln_S1)\n",
    "#     print(gamma*sum_S1_lambd /k)\n",
    "\n",
    "    f = (1 - gamma)*(sum_S1_ln_S1 / k - S*np.log(S))  + gamma*sum_S1_lambd /k \n",
    "    return f\n",
    "\n",
    "#print(lambd2f(lambd, S, S1))\n",
    "\n",
    "def lambd2df(lambd, S, S1, S2):\n",
    "    ln_S1_2k = np.log(S1/k)\n",
    "    T2 = S2[1:].reshape(n,n)\n",
    "#     print(T2, \"= T2\"); print(T2[1,1], \"= T2[1,1]\")\n",
    "#     print(np.log(S1/k))\n",
    "    sum_S2_ln_S1 = np.matmul(T2, ln_S1_2k)\n",
    "    sum_S2_lambd = np.matmul(T2, lambd)\n",
    "#    print(sum_S2_ln_S1, \"= sum_S2_ln_S1\")\n",
    "#    print(sum_S2_lambd, \"= sum_S2_lambd\")\n",
    "\n",
    "    df_TO_dlambd = (1-gamma)*(sum_S2_ln_S1 / k  - S1*np.log(S))   + gamma *(sum_S2_lambd + S1 ) / k\n",
    "#    print(df_TO_dlambd, \"= df_TO_dlambd\")\n",
    "#     print(df_TO_dlambd[1])\n",
    "    return df_TO_dlambd\n",
    "\n",
    "def df2_TO_dlambd2(lambd, S, S1, S2, S3 ):\n",
    "    ln_S1_2k = np.log(S1/k)\n",
    "#    print(ln_S1_2k, \"= ln_S1_2k\")\n",
    "    T2 = S2[1:].reshape(n,n)\n",
    "    T3 = S3[1:].reshape(n, n, n)\n",
    "#    print(T3, \"=T3\")\n",
    "    T3_2 = np.zeros((n, n)) ;  \n",
    "    for i in np.arange(n):\n",
    "        T3_2[i,:] = np.matmul(T3[i,:,:], ln_S1_2k)\n",
    "\n",
    "\n",
    "    T2_2 = np.zeros((n,n))    \n",
    "    for i in np.arange(n):\n",
    "        for j in np.arange(n):\n",
    "            if (i <= j):\n",
    "                s = 0\n",
    "                for l in np.arange(n):\n",
    "                    s += T2[i, l]*T2[j, l] / S1[l]\n",
    "                T2_2[i, j] = s\n",
    "                if (i < j): \n",
    "                    T2_2[j, i] = s\n",
    "\n",
    "    sum_S3_lambd = np.zeros((n, n))        \n",
    "    for i in np.arange(n):\n",
    "        sum_S3_lambd[i, :] = np.matmul(T3[i, :, :], lambd)\n",
    "#        print(T3[i, :, :], \"= T3[i, :, :]\")\n",
    "\n",
    "#     print(lambd, \"= lambd\")\n",
    "#     print(sum_S3_lambd, \"= sum_S3_lambd\")\n",
    "#     print(T2, \"= T2\")\n",
    "#     print(T3[i, :, :], \"= T3[i, :, :]\")\n",
    "    return (1 - gamma)*(T3_2 / k + T2_2 / k - T2 * np.log(S) - np.outer(S1, S1) / S )   + gamma *(sum_S3_lambd + T2*2 ) / k   \n",
    "\n",
    "lambd = np.log(ai[1:])\n",
    "# print(ai[1:], \"= ai[1:]\")\n",
    "# print(lambd, \"= lambd\")\n",
    "# print(lambd, lambd2df(lambd, S, S1, S2))\n",
    "# print(df2_TO_dlambd2(lambd, S, S1, S2, S3 ))"
   ]
  },
  {
   "cell_type": "code",
   "execution_count": 16,
   "metadata": {},
   "outputs": [
    {
     "name": "stdout",
     "output_type": "stream",
     "text": [
      "[-1.60943791 -1.2039728  -0.69314718] = lambd0\n"
     ]
    },
    {
     "data": {
      "image/png": "[encoded data removed]",
      "text/plain": [
       "<matplotlib.figure.Figure at 0x1891355f668>"
      ]
     },
     "metadata": {
      "image/png": {
       "height": 279,
       "width": 329
      },
      "needs_background": "light"
     },
     "output_type": "display_data"
    }
   ],
   "source": [
    "a0 =([0,.2,.3, .5])                  # Point through which we get a section\n",
    "ai = a0                              # One of the points on section\n",
    "\n",
    "lmb_i0_arr = np.zeros(20)            # set of values for the component i0 for which f_r has to be calculated\n",
    "f_r = np.zeros(20)                   # corresponding free energy \n",
    "f_tang = np.zeros(20)                # values from tangential line \n",
    "f_df2 = np.zeros(20)                 # values for parabolic line\n",
    "l1_min = -1\n",
    "l1_max = 1\n",
    "\n",
    "def extr_f(a0, i0, lmb_i0_tngt):\n",
    "# i0       the component number that will be varying\n",
    "# lmb_i0_tngt is the value of component with index i0 that defines where tanget will be constructed.\n",
    "# if a0 = ([0,.2,.3, .5]) , i0 = 2 and lmb_i0_tngt = 0.6 the tanget will be created for point =([0,.2, .6, .5])  \n",
    "    lambd0 = np.log(a0[1:]); print(lambd0, \"= lambd0\")   # lambd0 - point on f(lambd) where we drive a tanget\n",
    "    lambd0[i0 - 1] = lmb_i0_tngt\n",
    "    ai[i0] = np.exp(lambd0[i0 - 1])\n",
    "#     print(i0, \"= i0\")\n",
    "    \n",
    "#     print(lambd0, \"=lambd0\")\n",
    "#     print(lmb_i0_tngt, \"= lmb_i0_tngt\")\n",
    "    \n",
    "    (S, S1, S2, S3) = calc_Si(ai)\n",
    "    f_r_tang = lambd2f(lambd0, S, S1)\n",
    "#    print(f_r_tang, \"= f_r_tang\")\n",
    "    \n",
    "    df_TO_dlambd0 = lambd2df(lambd0, S, S1, S2)\n",
    "#    print(df_TO_dlambd0, \"= df_TO_dlambd0\")\n",
    "    \n",
    "    df2 = df2_TO_dlambd2(lambd0, S, S1, S2, S3 )\n",
    "    \n",
    "    ll1 = np.linspace(l1_min , l1_max, 21)\n",
    "    for i in np.arange(20):\n",
    "        lmb_i0_arr[i] = lambd0[i0 - 1] = ll1[i]\n",
    "        ai[i0] = np.exp(lambd0[i0 - 1])\n",
    "#        print(ai, \"= ai\")\n",
    "        (S, S1, S2, S3) = calc_Si(ai)\n",
    "        f_r[i]= lambd2f(lambd0, S, S1)\n",
    "        delt = (lambd0[i0 -1] - lmb_i0_tngt)\n",
    "        f_tang[i] = f_r_tang + delt * df_TO_dlambd0[i0 -1]\n",
    "        f_df2[i] = f_tang[i] + delt *delt * df2[i0 -1, i0 - 1] / 2\n",
    "#         print(delt, \"= delt\")\n",
    "#         print(f_df2[i] , \"= f_df2[i] \")\n",
    "    \n",
    "#    print(lambdi, \"= lambdi\")\n",
    "#    print(f_r, \"= f_r\")\n",
    "    fig = plt.figure(figsize=(5,10))\n",
    "    fig.add_subplot(211)\n",
    "#    plt.ylim(-20, 10)\n",
    "    plt.plot(lmb_i0_arr, f_r)\n",
    "    plt.plot(lmb_i0_arr, f_tang)\n",
    "    plt.plot(lmb_i0_arr, f_df2)\n",
    "    plt.show()\n",
    "\n",
    "extr_f(a0, 2, 0.3)\n",
    "#print(b1_min0, b1_max0)\n",
    "# gamma = wdg.FloatSlider(min=4., max=6, value = 4.88 )\n",
    "# x1 = wdg.FloatSlider(min=0, max=1, value = 0.25, step = 0.01)           \n",
    "# T = wdg.FloatSlider(min=1, max=2.5, value = 1.88, step = 0.01)          #T is theta/J \n",
    "# wdg.interactive(extr_f,gamma=gamma, x1=x1, T=T)"
   ]
  },
  {
   "cell_type": "code",
   "execution_count": null,
   "metadata": {},
   "outputs": [],
   "source": []
  },
  {
   "cell_type": "code",
   "execution_count": null,
   "metadata": {},
   "outputs": [],
   "source": []
  }
 ],
 "metadata": {
  "kernelspec": {
   "display_name": "Python 3",
   "language": "python",
   "name": "python3"
  },
  "language_info": {
   "codemirror_mode": {
    "name": "ipython",
    "version": 3
   },
   "file_extension": ".py",
   "mimetype": "text/x-python",
   "name": "python",
   "nbconvert_exporter": "python",
   "pygments_lexer": "ipython3",
   "version": "3.5.6"
  }
 },
 "nbformat": 4,
 "nbformat_minor": 4
}
